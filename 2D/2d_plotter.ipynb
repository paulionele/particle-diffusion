{
 "metadata": {
  "name": ""
 },
 "nbformat": 3,
 "nbformat_minor": 0,
 "worksheets": [
  {
   "cells": [
    {
     "cell_type": "markdown",
     "metadata": {},
     "source": []
    },
    {
     "cell_type": "code",
     "collapsed": false,
     "input": [
      "'''\n",
      "Script for plotting 2D density distribution using data produced by 2d_inhomogenous.c program.\n",
      "\n",
      "Input data form:\n",
      "Each 2D array is separated by an empty line. First, this empty line is tested for and used to\n",
      "indirectly count the number of 2D arrays in the data file to determine the number of time steps.\n",
      "A file object method (.seek()) is used to point the script back to the start of the file.\n",
      "\n",
      "This empty line also defines the start of a new 2D array. For each 2D array:\n",
      "    -each new line is a new row of data (dimension m).\n",
      "    -the number of elements in each row (dimension n).\n",
      "    -for each array, a list of lists is created. Each inner list is a row of data and the whole list\n",
      "    is contains all data for a single array.\n",
      "    \n",
      "    -It may be best to create an even higher order list that contains every array.\n",
      "'''\n",
      "import time as t\n",
      "from os import path\n",
      "from IPython.display import clear_output\n",
      "import numpy as np\n",
      "import matplotlib.pyplot as plt\n",
      "from mpl_toolkits.mplot3d import Axes3D\n",
      "%matplotlib inline\n",
      "\n",
      "\n",
      "'''Parsing the input file.'''\n",
      "\n",
      "times = 0\n",
      "\n",
      "savepath = '/home/paul/Documents/thesis/particle-diffusion/2D/2D-data'\n",
      "filename = 't001.txt'\n",
      "filepath = path.join(savepath,filename)\n",
      "with open(filepath,'r') as f:\n",
      "    \n",
      "    array_ith = []\n",
      "    array_all = []\n",
      "    \n",
      "    for dl in f:\n",
      "        if dl != '\\n':\n",
      "            #if the data line is not empty...\n",
      "            dls = [int(x) for x in dl.split()]\n",
      "            array_ith += [dls]\n",
      "        else:\n",
      "            #the data line is empty, add built array to list of all arrays.\n",
      "            array_all += [array_ith]\n",
      "            array_ith = []\n",
      "    times = len(array_all)\n",
      "\n",
      "\n",
      "'''Plotting data...'''\n",
      "\n",
      "for time in range(0,times):\n",
      "    if time%10 == 0:\n",
      "        plt.imshow(array_all[time], cmap='hot', interpolation='nearest')\n",
      "        plt.title('time step: {}'.format(time))\n",
      "        plt.show()\n",
      "        t.sleep(0.01)\n",
      "        clear_output(True)\n",
      "        plt.cla()\n"
     ],
     "language": "python",
     "metadata": {},
     "outputs": [
      {
       "metadata": {},
       "output_type": "display_data",
       "png": "[encoded data removed]",
       "text": [
        "<matplotlib.figure.Figure at 0x7fbba0127e50>"
       ]
      },
      {
       "ename": "KeyboardInterrupt",
       "evalue": "",
       "output_type": "pyerr",
       "traceback": [
        "\u001b[0;31m---------------------------------------------------------------------------\u001b[0m\n\u001b[0;31mKeyboardInterrupt\u001b[0m                         Traceback (most recent call last)",
        "\u001b[0;32m<ipython-input-39-ad8c7c80843f>\u001b[0m in \u001b[0;36m<module>\u001b[0;34m()\u001b[0m\n\u001b[1;32m     55\u001b[0m         \u001b[0mplt\u001b[0m\u001b[0;34m.\u001b[0m\u001b[0mtitle\u001b[0m\u001b[0;34m(\u001b[0m\u001b[0;34m'time step: {}'\u001b[0m\u001b[0;34m.\u001b[0m\u001b[0mformat\u001b[0m\u001b[0;34m(\u001b[0m\u001b[0mtime\u001b[0m\u001b[0;34m)\u001b[0m\u001b[0;34m)\u001b[0m\u001b[0;34m\u001b[0m\u001b[0m\n\u001b[1;32m     56\u001b[0m         \u001b[0mplt\u001b[0m\u001b[0;34m.\u001b[0m\u001b[0mshow\u001b[0m\u001b[0;34m(\u001b[0m\u001b[0;34m)\u001b[0m\u001b[0;34m\u001b[0m\u001b[0m\n\u001b[0;32m---> 57\u001b[0;31m         \u001b[0mt\u001b[0m\u001b[0;34m.\u001b[0m\u001b[0msleep\u001b[0m\u001b[0;34m(\u001b[0m\u001b[0;36m0.01\u001b[0m\u001b[0;34m)\u001b[0m\u001b[0;34m\u001b[0m\u001b[0m\n\u001b[0m\u001b[1;32m     58\u001b[0m         \u001b[0mclear_output\u001b[0m\u001b[0;34m(\u001b[0m\u001b[0mTrue\u001b[0m\u001b[0;34m)\u001b[0m\u001b[0;34m\u001b[0m\u001b[0m\n\u001b[1;32m     59\u001b[0m         \u001b[0mplt\u001b[0m\u001b[0;34m.\u001b[0m\u001b[0mcla\u001b[0m\u001b[0;34m(\u001b[0m\u001b[0;34m)\u001b[0m\u001b[0;34m\u001b[0m\u001b[0m\n",
        "\u001b[0;31mKeyboardInterrupt\u001b[0m: "
       ]
      }
     ],
     "prompt_number": 39
    },
    {
     "cell_type": "code",
     "collapsed": false,
     "input": [],
     "language": "python",
     "metadata": {},
     "outputs": [],
     "prompt_number": 26
    }
   ],
   "metadata": {}
  }
 ]
}