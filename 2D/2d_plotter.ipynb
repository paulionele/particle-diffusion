{
 "metadata": {
  "name": ""
 },
 "nbformat": 3,
 "nbformat_minor": 0,
 "worksheets": [
  {
   "cells": [
    {
     "cell_type": "markdown",
     "metadata": {},
     "source": []
    },
    {
     "cell_type": "code",
     "collapsed": false,
     "input": [
      "'''\n",
      "Script for plotting 2D density distribution using data produced by 2d_inhomogenous.c program.\n",
      "\n",
      "Input data form:\n",
      "Each 2D array is separated by an empty line. First, this empty line is tested for and used to\n",
      "indirectly count the number of 2D arrays in the data file to determine the number of time steps.\n",
      "A file object method (.seek()) is used to point the script back to the start of the file.\n",
      "\n",
      "This empty line also defines the start of a new 2D array. For each 2D array:\n",
      "    -each new line is a new row of data (dimension m).\n",
      "    -the number of elements in each row (dimension n).\n",
      "    -for each array, a list of lists is created. Each inner list is a row of data and the whole list\n",
      "    is contains all data for a single array.\n",
      "    \n",
      "    -It may be best to create an even higher order list that contains every array.\n",
      "'''\n",
      "import time as t\n",
      "from os import path\n",
      "from IPython.display import clear_output\n",
      "import numpy as np\n",
      "import matplotlib.pyplot as plt\n",
      "from mpl_toolkits.mplot3d import Axes3D\n",
      "%matplotlib inline\n",
      "\n",
      "plt.rcParams['figure.figsize'] = (16.0, 14.0) #manually change figure size on inline output.\n",
      "\n",
      "'''Parsing the input file.'''\n",
      "\n",
      "times = 0\n",
      "\n",
      "savepath = '/home/paul/Documents/thesis/particle-diffusion/2D/2D-data'\n",
      "filename = '17_xunit_cells_000.txt'\n",
      "filepath = path.join(savepath,filename)\n",
      "with open(filepath,'r') as f:\n",
      "    \n",
      "    array_ith = []\n",
      "    array_all = []\n",
      "    time_interval = 100\n",
      "    i = time_interval\n",
      "    \n",
      "    '''Comment out the codes below according to your choice.\n",
      "    1) The code below adds every time step density distribution to a data structure.'''\n",
      "#     for dl in f:\n",
      "#         if dl != '\\n':\n",
      "#             #if the data line is not empty...\n",
      "#             dls = [int(x) for x in dl.split()]\n",
      "#             array_ith += [dls]\n",
      "#         else:\n",
      "#             #the data line is empty, add built array to list of all arrays.\n",
      "#             array_all += [array_ith]\n",
      "#             array_ith = []\n",
      "#     times = len(array_all)\n",
      "\n",
      "    '''The code below adds only the specified time step dds to a data structure.\n",
      "    2) Specify the time increment and only those dds will be added to a data structure.'''\n",
      "    times = [0]\n",
      "    for dl in f:\n",
      "        if dl != '\\n' and i == time_interval:\n",
      "            #if the data line is not empty and this is a selected time interval...\n",
      "            dls = [int(x) for x in dl.split()]\n",
      "            array_ith += [dls]            \n",
      "        elif dl == '\\n':\n",
      "            #the data line is empty, add built array to list of all arrays.\n",
      "            array_all += [array_ith]\n",
      "            array_ith = []\n",
      "            #decrement the counter\n",
      "            i -= 1\n",
      "            if i == 0:\n",
      "                #if the appropriate number of dds have been skipped, add the next one.\n",
      "                i = time_interval\n",
      "                times += [times[-1] + time_interval]\n",
      "        else:\n",
      "            pass\n",
      "            \n",
      "'''Plotting data from 1)...'''\n",
      "# for time in range(0,times):\n",
      "#     if time%100 == 0:\n",
      "#         plt.imshow(array_all[time], cmap='hot', interpolation='nearest')\n",
      "#         plt.title('time step: {}'.format(time))\n",
      "#         plt.show()\n",
      "#         t.sleep(0.01)\n",
      "#         clear_output(True)\n",
      "#         plt.cla()\n",
      "\n",
      "'''Plotting data from 2)...'''\n",
      "for time in times:\n",
      "    plt.imshow(array_all[time], cmap='hot', interpolation='nearest')\n",
      "    plt.title('time step: {}'.format(time))\n",
      "    plt.show()\n",
      "    t.sleep(0.01)\n",
      "    clear_output(True)\n",
      "    plt.cla()"
     ],
     "language": "python",
     "metadata": {},
     "outputs": [
      {
       "ename": "IndexError",
       "evalue": "list index out of range",
       "output_type": "pyerr",
       "traceback": [
        "\u001b[0;31m---------------------------------------------------------------------------\u001b[0m\n\u001b[0;31mIndexError\u001b[0m                                Traceback (most recent call last)",
        "\u001b[0;32m<ipython-input-17-b37c24a2f17c>\u001b[0m in \u001b[0;36m<module>\u001b[0;34m()\u001b[0m\n\u001b[1;32m     85\u001b[0m \u001b[0;34m'''Plotting data from 2)...'''\u001b[0m\u001b[0;34m\u001b[0m\u001b[0m\n\u001b[1;32m     86\u001b[0m \u001b[0;32mfor\u001b[0m \u001b[0mtime\u001b[0m \u001b[0;32min\u001b[0m \u001b[0mtimes\u001b[0m\u001b[0;34m:\u001b[0m\u001b[0;34m\u001b[0m\u001b[0m\n\u001b[0;32m---> 87\u001b[0;31m     \u001b[0mplt\u001b[0m\u001b[0;34m.\u001b[0m\u001b[0mimshow\u001b[0m\u001b[0;34m(\u001b[0m\u001b[0marray_all\u001b[0m\u001b[0;34m[\u001b[0m\u001b[0mtime\u001b[0m\u001b[0;34m]\u001b[0m\u001b[0;34m,\u001b[0m \u001b[0mcmap\u001b[0m\u001b[0;34m=\u001b[0m\u001b[0;34m'hot'\u001b[0m\u001b[0;34m,\u001b[0m \u001b[0minterpolation\u001b[0m\u001b[0;34m=\u001b[0m\u001b[0;34m'nearest'\u001b[0m\u001b[0;34m)\u001b[0m\u001b[0;34m\u001b[0m\u001b[0m\n\u001b[0m\u001b[1;32m     88\u001b[0m     \u001b[0mplt\u001b[0m\u001b[0;34m.\u001b[0m\u001b[0mtitle\u001b[0m\u001b[0;34m(\u001b[0m\u001b[0;34m'time step: {}'\u001b[0m\u001b[0;34m.\u001b[0m\u001b[0mformat\u001b[0m\u001b[0;34m(\u001b[0m\u001b[0mtime\u001b[0m\u001b[0;34m)\u001b[0m\u001b[0;34m)\u001b[0m\u001b[0;34m\u001b[0m\u001b[0m\n\u001b[1;32m     89\u001b[0m     \u001b[0mplt\u001b[0m\u001b[0;34m.\u001b[0m\u001b[0mshow\u001b[0m\u001b[0;34m(\u001b[0m\u001b[0;34m)\u001b[0m\u001b[0;34m\u001b[0m\u001b[0m\n",
        "\u001b[0;31mIndexError\u001b[0m: list index out of range"
       ]
      },
      {
       "metadata": {},
       "output_type": "display_data",
       "png": "[encoded data removed]",
       "text": [
        "<matplotlib.figure.Figure at 0x7f305e13c650>"
       ]
      }
     ],
     "prompt_number": 17
    },
    {
     "cell_type": "code",
     "collapsed": false,
     "input": [],
     "language": "python",
     "metadata": {},
     "outputs": [],
     "prompt_number": 7
    }
   ],
   "metadata": {}
  }
 ]
}