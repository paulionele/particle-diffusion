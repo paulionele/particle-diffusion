{
 "metadata": {
  "name": ""
 },
 "nbformat": 3,
 "nbformat_minor": 0,
 "worksheets": [
  {
   "cells": [
    {
     "cell_type": "code",
     "collapsed": false,
     "input": [
      "import time as t\n",
      "from os import path\n",
      "from IPython.display import clear_output\n",
      "import numpy as np\n",
      "import matplotlib.pyplot as plt\n",
      "%matplotlib inline\n",
      "\n",
      "'''Parsing the input file.'''\n",
      "times = 0\n",
      "dists = []\n",
      "\n",
      "savepath = '/home/paul/Documents/thesis/particle-diffusion/data/'\n",
      "filename = '1d_inhomogenous_physical.txt'\n",
      "filepath = path.join(savepath,filename)\n",
      "with open(filepath,'r') as f:\n",
      "    \n",
      "    dl = f.readline()\n",
      "    dls = list(dl.split())\n",
      "    dists += [[int(x) for x in dls]]\n",
      "\n",
      "    times += 1\n",
      "    number_cells = len(dls)\n",
      "    number_parti = max(dls) #number of particles in the distribution\n",
      "    number_index = dls.index(number_parti) #returns an index for the location of start\n",
      "\n",
      "    for dl in f:\n",
      "        times += 1\n",
      "        dls = list(dl.split())\n",
      "        dists += [[int(x) for x in dls]]\n",
      "\n",
      "cells = np.array([x for x in range(0,number_cells)])\n",
      "\n",
      "\n",
      "'''Plotting data...'''\n",
      "def FP(time, D, cells, number_index):\n",
      "    '''\n",
      "    This function generates a Fokker-Planck distribution for every time step.\n",
      "    Output is an array of length equal to the total array length. Plot against 'cells'.\n",
      "    '''\n",
      "    P = 1.0/(np.sqrt(4.0*np.pi*D*float(time))) * np.exp(-((cells-number_index)*(cells-number_index))/(4.0*D*float(time)))\n",
      "    return 500000*P\n",
      "\n",
      "\n",
      "height = 5000 #height of start position marker\n",
      "D = 0.07254995519610308 #need to compute in seperate script.\n",
      "\n",
      "for time in range(0,7999):\n",
      "    if time%50 == 0:\n",
      "\n",
      "        #plt.figure(figsize=(8,6))\n",
      "        plt.plot(cells,dists[time])\n",
      "        plt.xlim(0,len(cells))\n",
      "        if time != 0:\n",
      "            plt.plot(cells, FP(time, D, cells, number_index))\n",
      "        \n",
      "        plt.plot((number_index,number_index), (0, height), 'r--')        \n",
      "#         plt.plot((19, 19), (0, height), 'k--')\n",
      "#         plt.plot((24, 24), (0, height), 'k--')\n",
      "#         plt.plot((44, 44), (0, height), 'k--')\n",
      "#         plt.plot((49, 49), (0, height), 'k--')\n",
      "#         plt.plot((69, 69), (0, height), 'k--')\n",
      "#         plt.plot((74, 74), (0, height), 'k--')\n",
      "        \n",
      "        plt.title('time step: {}'.format(time))\n",
      "        plt.xlabel('Cells')\n",
      "        plt.ylabel('Density')\n",
      "        plt.show()\n",
      "        t.sleep(0.01)\n",
      "        clear_output(True)\n",
      "        plt.cla()\n"
     ],
     "language": "python",
     "metadata": {},
     "outputs": [
      {
       "metadata": {},
       "output_type": "display_data",
       "png": "[encoded data removed]",
       "text": [
        "<matplotlib.figure.Figure at 0x7fd610225a90>"
       ]
      }
     ],
     "prompt_number": 4
    },
    {
     "cell_type": "code",
     "collapsed": false,
     "input": [],
     "language": "python",
     "metadata": {},
     "outputs": [],
     "prompt_number": 3
    },
    {
     "cell_type": "code",
     "collapsed": false,
     "input": [],
     "language": "python",
     "metadata": {},
     "outputs": [],
     "prompt_number": 7
    },
    {
     "cell_type": "code",
     "collapsed": false,
     "input": [],
     "language": "python",
     "metadata": {},
     "outputs": [],
     "prompt_number": 7
    },
    {
     "cell_type": "code",
     "collapsed": false,
     "input": [],
     "language": "python",
     "metadata": {},
     "outputs": [],
     "prompt_number": 6
    },
    {
     "cell_type": "code",
     "collapsed": false,
     "input": [],
     "language": "python",
     "metadata": {},
     "outputs": []
    }
   ],
   "metadata": {}
  }
 ]
}